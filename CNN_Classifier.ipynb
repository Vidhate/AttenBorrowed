{
 "cells": [
  {
   "cell_type": "code",
   "execution_count": 1,
   "metadata": {},
   "outputs": [],
   "source": [
    "# Source - https://www.kaggle.com/montimirko/digit-recognition-with-cnn-0-99-accuracy"
   ]
  },
  {
   "cell_type": "code",
   "execution_count": 1,
   "metadata": {},
   "outputs": [
    {
     "name": "stderr",
     "output_type": "stream",
     "text": [
      "Using TensorFlow backend.\n"
     ]
    }
   ],
   "source": [
    "import numpy as np\n",
    "import pandas as pd\n",
    "import tensorflow as tf\n",
    "import tensorflow.keras as keras\n",
    "from keras.utils import to_categorical\n",
    "from sklearn.model_selection import train_test_split\n",
    "import matplotlib.pyplot as plt\n",
    "import seaborn as sns\n",
    "from pathlib import Path"
   ]
  },
  {
   "cell_type": "code",
   "execution_count": 2,
   "metadata": {},
   "outputs": [],
   "source": [
    "src=Path(\"./Source Data/\")\n",
    "train_src=src/'mnist_train.csv'\n",
    "test_src=src/'mnist_test.csv'\n",
    "# Should be able to use numpy.loadtxt to load these CSVs\n",
    "df_train=pd.read_csv(train_src,header=None)\n",
    "df_test=pd.read_csv(test_src,header=None)"
   ]
  },
  {
   "cell_type": "code",
   "execution_count": 3,
   "metadata": {},
   "outputs": [
    {
     "name": "stdout",
     "output_type": "stream",
     "text": [
      "(60000,) (10000,)\n",
      "(60000, 784) (10000, 784)\n"
     ]
    }
   ],
   "source": [
    "# Structure of CSV is a single linear list of 1+784 normalized values for each 28X28 image where the 1st value is the label\n",
    "# This cell strips the labels from the image data and stores in different variables\n",
    "train_labels=df_train.iloc[:,0].values\n",
    "train_set=df_train.drop(df_train.columns[0],axis=1).values\n",
    "test_labels=df_test.iloc[:,0].values\n",
    "test_set=df_test.drop(df_test.columns[0],axis=1).values\n",
    "\n",
    "print(train_labels.shape,test_labels.shape)\n",
    "print(train_set.shape,test_set.shape)"
   ]
  },
  {
   "cell_type": "code",
   "execution_count": 21,
   "metadata": {},
   "outputs": [
    {
     "name": "stdout",
     "output_type": "stream",
     "text": [
      "(60000, 28, 28, 1) (10000, 28, 28, 1)\n",
      "(60000, 1) (10000, 1)\n"
     ]
    }
   ],
   "source": [
    "# Need to reshape the data as a 4D tensor form because Conv2D (the convolution layer from tensorflow) takes input as 4D tensor\n",
    "train_set=np.reshape(train_set,(-1,28,28,1))\n",
    "test_set=np.reshape(test_set,(-1,28,28,1))\n",
    "train_labels=np.reshape(train_labels,(-1,1))\n",
    "test_labels=np.reshape(test_labels,(-1,1))\n",
    "\n",
    "print(train_set.shape,test_set.shape)\n",
    "print(train_labels.shape,test_labels.shape)"
   ]
  },
  {
   "cell_type": "code",
   "execution_count": 5,
   "metadata": {},
   "outputs": [
    {
     "data": {
      "text/plain": [
       "<matplotlib.image.AxesImage at 0x17145b130f0>"
      ]
     },
     "execution_count": 5,
     "metadata": {},
     "output_type": "execute_result"
    },
    {
     "data": {
      "image/png": "[encoded data removed]",
      "text/plain": [
       "<Figure size 432x288 with 1 Axes>"
      ]
     },
     "metadata": {
      "needs_background": "light"
     },
     "output_type": "display_data"
    }
   ],
   "source": [
    "# To see any of the images use imshow\n",
    "plt.imshow(train_set[7000].reshape([28,28]))"
   ]
  },
  {
   "cell_type": "code",
   "execution_count": 6,
   "metadata": {},
   "outputs": [
    {
     "name": "stdout",
     "output_type": "stream",
     "text": [
      "WARNING:tensorflow:From C:\\Users\\Vidhate\\Anaconda3\\lib\\site-packages\\tensorflow\\python\\ops\\resource_variable_ops.py:435: colocate_with (from tensorflow.python.framework.ops) is deprecated and will be removed in a future version.\n",
      "Instructions for updating:\n",
      "Colocations handled automatically by placer.\n"
     ]
    }
   ],
   "source": [
    "# Documentation for adding layers to the sequential model\n",
    "# https://keras.io/getting-started/sequential-model-guide/\n",
    "model=keras.models.Sequential([\n",
    "    # doc on conv layer - https://keras.io/layers/convolutional/\n",
    "    keras.layers.Conv2D(64, (3,3), input_shape=(28,28,1), activation='relu'),\n",
    "    keras.layers.MaxPooling2D(2,2),\n",
    "    keras.layers.BatchNormalization(),\n",
    "    # doc to explain padding -https://stackoverflow.com/questions/37674306/what-is-the-difference-between-same-and-valid-padding-in-tf-nn-max-pool-of-t\n",
    "    keras.layers.Conv2D(128, (3,3),padding='valid', activation='relu'),\n",
    "    keras.layers.MaxPooling2D(2,2),\n",
    "    keras.layers.BatchNormalization(),\n",
    "    keras.layers.Conv2D(128, (3,3),padding='valid', activation='relu'),\n",
    "    keras.layers.MaxPooling2D(2,2),\n",
    "    keras.layers.BatchNormalization(),\n",
    "    keras.layers.Flatten(),\n",
    "    keras.layers.Dense(128),\n",
    "    keras.layers.BatchNormalization(),\n",
    "    keras.layers.Activation('relu'),\n",
    "    keras.layers.Dense(64),\n",
    "    keras.layers.BatchNormalization(),\n",
    "    keras.layers.Activation('relu'),\n",
    "    keras.layers.Dense(10, activation='softmax')    \n",
    "])"
   ]
  },
  {
   "cell_type": "code",
   "execution_count": 7,
   "metadata": {},
   "outputs": [
    {
     "name": "stdout",
     "output_type": "stream",
     "text": [
      "_________________________________________________________________\n",
      "Layer (type)                 Output Shape              Param #   \n",
      "=================================================================\n",
      "conv2d (Conv2D)              (None, 26, 26, 64)        640       \n",
      "_________________________________________________________________\n",
      "max_pooling2d (MaxPooling2D) (None, 13, 13, 64)        0         \n",
      "_________________________________________________________________\n",
      "batch_normalization_v1 (Batc (None, 13, 13, 64)        256       \n",
      "_________________________________________________________________\n",
      "conv2d_1 (Conv2D)            (None, 11, 11, 128)       73856     \n",
      "_________________________________________________________________\n",
      "max_pooling2d_1 (MaxPooling2 (None, 5, 5, 128)         0         \n",
      "_________________________________________________________________\n",
      "batch_normalization_v1_1 (Ba (None, 5, 5, 128)         512       \n",
      "_________________________________________________________________\n",
      "conv2d_2 (Conv2D)            (None, 3, 3, 128)         147584    \n",
      "_________________________________________________________________\n",
      "max_pooling2d_2 (MaxPooling2 (None, 1, 1, 128)         0         \n",
      "_________________________________________________________________\n",
      "batch_normalization_v1_2 (Ba (None, 1, 1, 128)         512       \n",
      "_________________________________________________________________\n",
      "flatten (Flatten)            (None, 128)               0         \n",
      "_________________________________________________________________\n",
      "dense (Dense)                (None, 128)               16512     \n",
      "_________________________________________________________________\n",
      "batch_normalization_v1_3 (Ba (None, 128)               512       \n",
      "_________________________________________________________________\n",
      "activation (Activation)      (None, 128)               0         \n",
      "_________________________________________________________________\n",
      "dense_1 (Dense)              (None, 64)                8256      \n",
      "_________________________________________________________________\n",
      "batch_normalization_v1_4 (Ba (None, 64)                256       \n",
      "_________________________________________________________________\n",
      "activation_1 (Activation)    (None, 64)                0         \n",
      "_________________________________________________________________\n",
      "dense_2 (Dense)              (None, 10)                650       \n",
      "=================================================================\n",
      "Total params: 249,546\n",
      "Trainable params: 248,522\n",
      "Non-trainable params: 1,024\n",
      "_________________________________________________________________\n"
     ]
    }
   ],
   "source": [
    "# doc on categorical crossentropy - https://peltarion.com/knowledge-center/documentation/modeling-view/build-an-ai-model/loss-functions/categorical-crossentropy\n",
    "# Why sparse categorical crossentropy is better than normal categorical entropy -\n",
    "# https://datascience.stackexchange.com/questions/41921/sparse-categorical-crossentropy-vs-categorical-crossentropy-keras-accuracy\n",
    "model.compile(optimizer='adam', loss='sparse_categorical_crossentropy', metrics=['accuracy'])\n",
    "model.summary()"
   ]
  },
  {
   "cell_type": "code",
   "execution_count": 22,
   "metadata": {},
   "outputs": [],
   "source": [
    "#Xtrain,Xtest,Ytrain,Ytest=train_test_split(train_set,train_labels,test_size=0.2)\n",
    "#print(Xtrain.shape,Ytrain.shape,Xtest.shape,Ytest.shape)"
   ]
  },
  {
   "cell_type": "code",
   "execution_count": 25,
   "metadata": {},
   "outputs": [
    {
     "name": "stdout",
     "output_type": "stream",
     "text": [
      "Epoch 1/10\n",
      "60000/60000 [==============================] - 203s 3ms/sample - loss: 0.0735 - acc: 0.9778\n",
      "Epoch 2/10\n",
      "60000/60000 [==============================] - 207s 3ms/sample - loss: 0.0533 - acc: 0.9836\n",
      "Epoch 3/10\n",
      "60000/60000 [==============================] - 210s 3ms/sample - loss: 0.0392 - acc: 0.9876\n",
      "Epoch 4/10\n",
      "60000/60000 [==============================] - 208s 3ms/sample - loss: 0.0323 - acc: 0.9900\n",
      "Epoch 5/10\n",
      "60000/60000 [==============================] - 209s 3ms/sample - loss: 0.0274 - acc: 0.9913\n",
      "Epoch 6/10\n",
      "60000/60000 [==============================] - 208s 3ms/sample - loss: 0.0240 - acc: 0.9924\n",
      "Epoch 7/10\n",
      "60000/60000 [==============================] - 208s 3ms/sample - loss: 0.0175 - acc: 0.9941\n",
      "Epoch 8/10\n",
      "60000/60000 [==============================] - 212s 4ms/sample - loss: 0.0171 - acc: 0.9945\n",
      "Epoch 9/10\n",
      "60000/60000 [==============================] - 209s 3ms/sample - loss: 0.0136 - acc: 0.9956\n",
      "Epoch 10/10\n",
      "60000/60000 [==============================] - 203s 3ms/sample - loss: 0.0134 - acc: 0.9956\n"
     ]
    }
   ],
   "source": [
    "history=model.fit(train_set,train_labels,epochs=10)\n",
    "# history stores the loss across the training epochs. \n",
    "# Ref - https://machinelearningmastery.com/display-deep-learning-model-training-history-in-keras/"
   ]
  },
  {
   "cell_type": "code",
   "execution_count": 26,
   "metadata": {},
   "outputs": [
    {
     "name": "stdout",
     "output_type": "stream",
     "text": [
      "10000/10000 [==============================] - 14s 1ms/sample - loss: 0.0452 - acc: 0.9889\n"
     ]
    },
    {
     "data": {
      "text/plain": [
       "[0.04519553901469335, 0.9889]"
      ]
     },
     "execution_count": 26,
     "metadata": {},
     "output_type": "execute_result"
    }
   ],
   "source": [
    "model.evaluate(test_set,test_labels)"
   ]
  },
  {
   "cell_type": "code",
   "execution_count": null,
   "metadata": {},
   "outputs": [],
   "source": []
  }
 ],
 "metadata": {
  "kernelspec": {
   "display_name": "Python 3",
   "language": "python",
   "name": "python3"
  },
  "language_info": {
   "codemirror_mode": {
    "name": "ipython",
    "version": 3
   },
   "file_extension": ".py",
   "mimetype": "text/x-python",
   "name": "python",
   "nbconvert_exporter": "python",
   "pygments_lexer": "ipython3",
   "version": "3.7.1"
  }
 },
 "nbformat": 4,
 "nbformat_minor": 2
}
